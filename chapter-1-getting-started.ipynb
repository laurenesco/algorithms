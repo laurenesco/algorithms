{
 "cells": [
  {
   "cell_type": "markdown",
   "id": "bf1933f4-1a86-40bf-8898-f66e70645c7e",
   "metadata": {},
   "source": [
    "### Loop Invariants"
   ]
  }
 ],
 "metadata": {
  "kernelspec": {
   "display_name": "Python [conda env:base] *",
   "language": "python",
   "name": "conda-base-py"
  },
  "language_info": {
   "codemirror_mode": {
    "name": "ipython",
    "version": 3
   },
   "file_extension": ".py",
   "mimetype": "text/x-python",
   "name": "python",
   "nbconvert_exporter": "python",
   "pygments_lexer": "ipython3",
   "version": "3.12.7"
  }
 },
 "nbformat": 4,
 "nbformat_minor": 5
}
